{
 "cells": [
  {
   "cell_type": "code",
   "execution_count": 1,
   "metadata": {},
   "outputs": [],
   "source": [
    "import numpy as np\n",
    "\n",
    "from RushHour4.core import Map, Environment\n",
    "from RushHour4.interact import Game"
   ]
  },
  {
   "cell_type": "code",
   "execution_count": 2,
   "metadata": {},
   "outputs": [
    {
     "data": {
      "text/html": [
       "<table>\n",
       "<tbody>\n",
       "<tr><td>o</td><td>o</td><td>o</td><td>o</td><td>o</td><td>o</td><td>o</td><td>o</td><td>o</td><td>o</td></tr>\n",
       "<tr><td>o</td><td>o</td><td>o</td><td>o</td><td>o</td><td>o</td><td>o</td><td>o</td><td>o</td><td>o</td></tr>\n",
       "<tr><td>o</td><td>o</td><td>o</td><td>o</td><td>o</td><td>o</td><td>o</td><td>o</td><td>o</td><td>o</td></tr>\n",
       "<tr><td>o</td><td>o</td><td>o</td><td>o</td><td>o</td><td>o</td><td>o</td><td>o</td><td>o</td><td>o</td></tr>\n",
       "<tr><td>o</td><td>o</td><td>o</td><td>o</td><td>o</td><td>o</td><td>o</td><td>o</td><td>o</td><td>o</td></tr>\n",
       "<tr><td>o</td><td>o</td><td>o</td><td>o</td><td>o</td><td>o</td><td>o</td><td>o</td><td>o</td><td>o</td></tr>\n",
       "<tr><td>o</td><td>o</td><td>o</td><td>o</td><td>o</td><td>o</td><td>o</td><td>o</td><td>o</td><td>o</td></tr>\n",
       "<tr><td>o</td><td>o</td><td>o</td><td>o</td><td>o</td><td>o</td><td>o</td><td>o</td><td>o</td><td>o</td></tr>\n",
       "<tr><td>o</td><td>o</td><td>o</td><td>o</td><td>o</td><td>o</td><td>o</td><td>o</td><td>o</td><td>o</td></tr>\n",
       "<tr><td>o</td><td>o</td><td>o</td><td>o</td><td>o</td><td>o</td><td>o</td><td>o</td><td>o</td><td>o</td></tr>\n",
       "</tbody>\n",
       "</table>"
      ],
      "text/plain": [
       "<IPython.core.display.HTML object>"
      ]
     },
     "metadata": {},
     "output_type": "display_data"
    }
   ],
   "source": [
    "map = Map(10, 10)\n",
    "map.view()"
   ]
  },
  {
   "cell_type": "code",
   "execution_count": 3,
   "metadata": {},
   "outputs": [],
   "source": [
    "game = Game(map, 50)"
   ]
  },
  {
   "cell_type": "code",
   "execution_count": 4,
   "metadata": {},
   "outputs": [
    {
     "name": "stdout",
     "output_type": "stream",
     "text": [
      "o o o o o o o o o o\n",
      "o o o o o o o o o o\n",
      "o o o o o o o o o o\n",
      "o o o o o o o o o o\n",
      "o o o o o o o o o o\n",
      "o o o o o o o o o o\n",
      "o o o o o o o o o o\n",
      "o o o o o o o o o o\n",
      "o o o o o o o o o o\n",
      "o o o o o o o o o o\n"
     ]
    }
   ],
   "source": [
    "print(game)"
   ]
  },
  {
   "cell_type": "code",
   "execution_count": 5,
   "metadata": {},
   "outputs": [
    {
     "data": {
      "text/plain": [
       "(0, 99)"
      ]
     },
     "execution_count": 5,
     "metadata": {},
     "output_type": "execute_result"
    }
   ],
   "source": [
    "game._start, game._end "
   ]
  },
  {
   "cell_type": "code",
   "execution_count": 14,
   "metadata": {},
   "outputs": [
    {
     "ename": "FileNotFoundError",
     "evalue": "[Errno 2] No such file or directory: 'Models/two_common_qtable_new.pickle'",
     "output_type": "error",
     "traceback": [
      "\u001b[0;31m---------------------------------------------------------------------------\u001b[0m",
      "\u001b[0;31mFileNotFoundError\u001b[0m                         Traceback (most recent call last)",
      "Cell \u001b[0;32mIn[14], line 25\u001b[0m\n\u001b[1;32m     22\u001b[0m                     q_table[primary_cop_pos, secondary_cop_pos, thief_pos, :] \u001b[39m=\u001b[39m [np\u001b[39m.\u001b[39mrandom\u001b[39m.\u001b[39muniform(\u001b[39m-\u001b[39m\u001b[39m1\u001b[39m, \u001b[39m1\u001b[39m) \u001b[39mfor\u001b[39;00m i \u001b[39min\u001b[39;00m \u001b[39mrange\u001b[39m(\u001b[39m4\u001b[39m)]\n\u001b[1;32m     24\u001b[0m \u001b[39melse\u001b[39;00m:\n\u001b[0;32m---> 25\u001b[0m     \u001b[39mwith\u001b[39;00m \u001b[39mopen\u001b[39;49m(start_q_table, \u001b[39m\"\u001b[39;49m\u001b[39mrb\u001b[39;49m\u001b[39m\"\u001b[39;49m) \u001b[39mas\u001b[39;00m f:\n\u001b[1;32m     26\u001b[0m         q_table \u001b[39m=\u001b[39m pickle\u001b[39m.\u001b[39mload(f)\n\u001b[1;32m     28\u001b[0m action_direction \u001b[39m=\u001b[39m [\u001b[39m'\u001b[39m\u001b[39mup\u001b[39m\u001b[39m'\u001b[39m, \u001b[39m'\u001b[39m\u001b[39mdown\u001b[39m\u001b[39m'\u001b[39m, \u001b[39m'\u001b[39m\u001b[39mleft\u001b[39m\u001b[39m'\u001b[39m, \u001b[39m'\u001b[39m\u001b[39mright\u001b[39m\u001b[39m'\u001b[39m]\n",
      "File \u001b[0;32m~/Library/Python/3.9/lib/python/site-packages/IPython/core/interactiveshell.py:282\u001b[0m, in \u001b[0;36m_modified_open\u001b[0;34m(file, *args, **kwargs)\u001b[0m\n\u001b[1;32m    275\u001b[0m \u001b[39mif\u001b[39;00m file \u001b[39min\u001b[39;00m {\u001b[39m0\u001b[39m, \u001b[39m1\u001b[39m, \u001b[39m2\u001b[39m}:\n\u001b[1;32m    276\u001b[0m     \u001b[39mraise\u001b[39;00m \u001b[39mValueError\u001b[39;00m(\n\u001b[1;32m    277\u001b[0m         \u001b[39mf\u001b[39m\u001b[39m\"\u001b[39m\u001b[39mIPython won\u001b[39m\u001b[39m'\u001b[39m\u001b[39mt let you open fd=\u001b[39m\u001b[39m{\u001b[39;00mfile\u001b[39m}\u001b[39;00m\u001b[39m by default \u001b[39m\u001b[39m\"\u001b[39m\n\u001b[1;32m    278\u001b[0m         \u001b[39m\"\u001b[39m\u001b[39mas it is likely to crash IPython. If you know what you are doing, \u001b[39m\u001b[39m\"\u001b[39m\n\u001b[1;32m    279\u001b[0m         \u001b[39m\"\u001b[39m\u001b[39myou can use builtins\u001b[39m\u001b[39m'\u001b[39m\u001b[39m open.\u001b[39m\u001b[39m\"\u001b[39m\n\u001b[1;32m    280\u001b[0m     )\n\u001b[0;32m--> 282\u001b[0m \u001b[39mreturn\u001b[39;00m io_open(file, \u001b[39m*\u001b[39;49margs, \u001b[39m*\u001b[39;49m\u001b[39m*\u001b[39;49mkwargs)\n",
      "\u001b[0;31mFileNotFoundError\u001b[0m: [Errno 2] No such file or directory: 'Models/two_common_qtable_new.pickle'"
     ]
    }
   ],
   "source": [
    "ROWS, COLS = 10, 10\n",
    "EPISODES = 100\n",
    "MOVE_PENALTY = 1\n",
    "COLLISION_PENALTY = 100\n",
    "CATCH_REWARD = 200\n",
    "\n",
    "EPSILON = 1.0\n",
    "EPS_DECAY = 0.999996\n",
    "LEARNING_RATE = 0.1\n",
    "DISCOUNT = 0.95\n",
    "\n",
    "SHOW_EVERY = 100\n",
    "\n",
    "# start_q_table = \"Models/two_common_qtable_new.pickle\" # None or Filename\n",
    "\n",
    "if start_q_table is None:\n",
    "    # initialize the q-table#\n",
    "    q_table = np.zeros[(100,100,100,4)]\n",
    "    for primary_cop_pos in range(game._start, game._end + 1):\n",
    "        for secondary_cop_pos in range(game._start, game._end + 1):\n",
    "            for thief_pos in range(game._start, game._end + 1):\n",
    "                    q_table[primary_cop_pos, secondary_cop_pos, thief_pos, :] = [np.random.uniform(-1, 1) for i in range(4)]\n",
    "\n",
    "else:\n",
    "    with open(start_q_table, \"rb\") as f:\n",
    "        q_table = pickle.load(f)\n",
    "         \n",
    "action_direction = ['up', 'down', 'left', 'right']\n"
   ]
  },
  {
   "cell_type": "code",
   "execution_count": 8,
   "metadata": {},
   "outputs": [],
   "source": [
    "import random\n",
    "import matplotlib.pyplot as plt\n",
    "\n",
    "def get_random_pos():\n",
    "    possible_start_locations = game.valid_states\n",
    "    return random.choice(possible_start_locations)\n",
    "\n",
    "def get_cop_states(cop1_pos, cop2_pos, thief_pos):\n",
    "    cop1_state = [cop1_pos, cop2_pos, thief_pos]\n",
    "    cop2_state = [cop2_pos, cop1_pos, thief_pos]\n",
    "    return cop1_state, cop2_state\n",
    "\n",
    "def perform_action(agent, observations):\n",
    "    if np.random.random() > EPSILON:\n",
    "        direction = np.argmax(q_table[observations])\n",
    "    else:\n",
    "        direction = np.random.randint(0, 4)\n",
    "    return direction\n",
    "\n",
    "\n",
    "def update_table(self, reward, old_state, new_state, direction):\n",
    "    max_future_q = np.max(q_table[new_state])\n",
    "    current_q = q_table[old_state][direction]\n",
    "    if reward == CATCH_REWARD*2:\n",
    "        new_q = CATCH_REWARD\n",
    "    else:\n",
    "        new_q = (1 - LEARNING_RATE) * current_q + LEARNING_RATE * (reward + DISCOUNT * max_future_q)\n",
    "    q_table[old_state][direction] = new_q\n",
    "\n",
    "\n",
    "def relative_position(thief, cop):\n",
    "    cop[0] = cop[0]\n",
    "    cop[1] = cop[1]\n",
    "    thief[0] = thief[0]\n",
    "    thief[1] = thief[1]\n",
    "\n",
    "    # Get X\n",
    "    x_val = 0\n",
    "    if cop[0] > thief[0]:\n",
    "        distance1 = cop[0]-thief[0]\n",
    "        distance2 = thief[0]+ROWS - cop[0]\n",
    "        if distance2<distance1:\n",
    "            x_val = -distance2\n",
    "        else:\n",
    "            x_val = distance1\n",
    "    elif cop[0] < thief[0]:\n",
    "        distance1 = thief[0] - cop[0]\n",
    "        distance2 = cop[0]+ROWS - thief[0]\n",
    "        if distance2<distance1:\n",
    "            x_val = distance2\n",
    "        else:\n",
    "            x_val = -distance1\n",
    "\n",
    "    \n",
    "    y_val = 0\n",
    "    if cop[1] > thief[1]:\n",
    "        distance1 = cop[1]-thief[1]\n",
    "        distance2 = thief[1]+ROWS - cop[1]\n",
    "        if distance2<distance1:\n",
    "            y_val = -distance2\n",
    "        else:\n",
    "            y_val = distance1\n",
    "    elif cop[1] < thief[1]:\n",
    "        distance1 = thief[1] - cop[1]\n",
    "        distance2 = cop[1]+ROWS - thief[1]\n",
    "        if distance2<distance1:\n",
    "            y_val = distance2\n",
    "        else:\n",
    "            y_val = -distance1\n",
    "\n",
    "    return (x_val, y_val)\n",
    "\n",
    "def thief_run():\n",
    "    cop1_pos = game.locate_agent(\"1\", index=False)\n",
    "    cop2_pos = game.locate_agent(\"2\", index=False)\n",
    "    thief_pos = game.locate_agent(\"x\", index=False)\n",
    "\n",
    "    cop_1_rel = relative_position(thief_pos, cop1_pos)\n",
    "    cop_2_rel = relative_position(thief_pos, cop2_pos)\n",
    "\n",
    "    obs = [cop_1_rel[0], cop_1_rel[1], cop_2_rel[0], cop_2_rel[1]]\n",
    "    obs_values = list(map(abs, obs))\n",
    "    \n",
    "    lowest_index = obs_values.index(min(obs_values))\n",
    "    if obs[lowest_index] < 0:\n",
    "        if lowest_index in [0,2]:\n",
    "            direction = \"right\"\n",
    "        else:\n",
    "            direction = \"down\"\n",
    "    else:\n",
    "        if lowest_index in [0,2]:\n",
    "            direction = \"left\"\n",
    "        else:\n",
    "            direction = \"up\"\n",
    "    return direction\n"
   ]
  },
  {
   "cell_type": "code",
   "execution_count": null,
   "metadata": {},
   "outputs": [],
   "source": [
    "episode_rewards = []\n",
    "catch_count1 = 0\n",
    "catch_count2 = 0\n",
    "\n",
    "for episode in range(EPISODES):\n",
    "    game.initialize({\"1\": game.random_state()})\n",
    "    game.initialize({\"2\": game.random_state()})\n",
    "    game.initialize({\"x\": game.random_state()})\n",
    "\n",
    "    episode_reward = 0\n",
    "    cop1_caught = 0\n",
    "    cop2_caught = 0\n",
    "\n",
    "    cop1_pos = game.locate_agent(\"1\")\n",
    "    cop2_pos = game.locate_agent(\"2\")\n",
    "    thief_pos = game.locate_agent(\"x\")\n",
    "    cop1_state, cop2_state = get_cop_states(cop1_pos, cop2_pos, thief_pos)\n",
    "\n",
    "    for i in range(200):\n",
    "        cop1_direction = perform_action(cop1_state)\n",
    "        cop2_direction = perform_action(cop2_state)\n",
    "\n",
    "        if action_direction[cop1_direction] in game.valid_actions(cop1_pos, index=True):\n",
    "            game.update({\"1\": action_direction[cop1_direction]})\n",
    "\n",
    "        if action_direction[cop2_direction] in game.valid_actions(cop2_pos, index=True):\n",
    "            game.update({\"2\": action_direction[cop2_direction]})\n",
    "\n",
    "        if game._agent_location[\"1\"] == game._agent_location[\"x\"]:\n",
    "            reward = CATCH_REWARD\n",
    "            cop1_caught = CATCH_REWARD\n",
    "            catch_count1 += 1\n",
    "        elif game._agent_location[\"1\"] == game._agent_location[\"x\"]:\n",
    "            reward = CATCH_REWARD\n",
    "            cop2_caught = CATCH_REWARD\n",
    "            catch_count2 += 1\n",
    "        else:\n",
    "            reward = -MOVE_PENALTY\n",
    "\n",
    "        cop1_pos = game.locate_agent(\"1\")\n",
    "        cop2_pos = game.locate_agent(\"2\")\n",
    "        \n",
    "        thief_run_direction = thief_run()\n",
    "        if thief_run_direction in game.valid_actions(thief_pos, index=True):\n",
    "            game.update({\"x\": thief_run_direction})\n",
    "\n",
    "\n",
    "        thief_pos = game.locate_agent(\"x\")\n",
    "        cop1_state_new, cop2_state_new = get_cop_states(cop1_pos, cop2_pos, thief_pos)\n",
    "\n",
    "        update_table(reward, cop1_state, cop1_state_new, cop1_direction)\n",
    "        update_table(reward, cop2_state, cop2_state_new, cop1_direction)\n",
    "\n",
    "        cop1_state, cop2_state = cop1_state_new, cop2_state_new\n",
    "\n",
    "        episode_reward += reward\n",
    "        if reward == CATCH_REWARD:\n",
    "            break\n",
    "\n",
    "    print(episode + 1, \": STEPS :\", 200 - episode_reward)\n",
    "    episode_rewards.append(episode_reward)\n",
    "    EPSILON *= EPS_DECAY\n",
    "\n",
    "\n",
    "\n",
    "moving_avg = np.convolve(episode_rewards, np.ones((SHOW_EVERY,))/SHOW_EVERY, mode='valid')\n",
    "\n",
    "plt.plot([i for i in range(len(moving_avg))], moving_avg)\n",
    "plt.ylabel(f\"Reward {SHOW_EVERY}ma\")\n",
    "plt.xlabel(\"episode #\")\n",
    "plt.show()\n",
    "\n",
    "catch_count_total = (catch_count1 + catch_count2)\n",
    "print(\"Catching Percentage : Cop 1 :\", catch_count1 * 100 / catch_count_total)\n",
    "print(\"Catching Percentage : Cop 2 :\", catch_count2 * 100 / catch_count_total)\n",
    "print(\"Catching Percentage : Total :\", catch_count_total * 100 / EPISODES)\n",
    "print(\"Average Steps To Catch      :\", 200 - (sum(episode_rewards)/len(episode_rewards)))\n"
   ]
  }
 ],
 "metadata": {
  "kernelspec": {
   "display_name": "marl",
   "language": "python",
   "name": "python3"
  },
  "language_info": {
   "codemirror_mode": {
    "name": "ipython",
    "version": 3
   },
   "file_extension": ".py",
   "mimetype": "text/x-python",
   "name": "python",
   "nbconvert_exporter": "python",
   "pygments_lexer": "ipython3",
   "version": "3.9.16"
  },
  "orig_nbformat": 4
 },
 "nbformat": 4,
 "nbformat_minor": 2
}
