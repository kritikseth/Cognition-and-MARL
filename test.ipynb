{
 "cells": [
  {
   "cell_type": "code",
   "execution_count": 1,
   "metadata": {},
   "outputs": [],
   "source": [
    "import numpy as np\n",
    "\n",
    "from RushHour4.core import Map, Environment\n",
    "from RushHour4.interact import Game"
   ]
  },
  {
   "cell_type": "code",
   "execution_count": 6,
   "metadata": {},
   "outputs": [
    {
     "data": {
      "text/html": [
       "<table>\n",
       "<tbody>\n",
       "<tr><td>o</td><td>o</td><td>o </td><td>o </td><td>o </td><td>o</td><td>o </td><td>[]</td><td>[]</td></tr>\n",
       "<tr><td>o</td><td>o</td><td>o </td><td>[]</td><td>[]</td><td>o</td><td>o </td><td>o </td><td>o </td></tr>\n",
       "<tr><td>o</td><td>o</td><td>[]</td><td>[]</td><td>o </td><td>o</td><td>o </td><td>o </td><td>o </td></tr>\n",
       "<tr><td>o</td><td>o</td><td>[]</td><td>[]</td><td>o </td><td>o</td><td>[]</td><td>[]</td><td>o </td></tr>\n",
       "<tr><td>o</td><td>o</td><td>o </td><td>o </td><td>o </td><td>o</td><td>o </td><td>[]</td><td>o </td></tr>\n",
       "<tr><td>o</td><td>o</td><td>o </td><td>o </td><td>o </td><td>o</td><td>o </td><td>o </td><td>o </td></tr>\n",
       "</tbody>\n",
       "</table>"
      ],
      "text/plain": [
       "<IPython.core.display.HTML object>"
      ]
     },
     "metadata": {},
     "output_type": "display_data"
    }
   ],
   "source": [
    "map = Map(6, 9)\n",
    "obstruct_ids = [12, 13, 21, 30, 20, 29, 33, 34, 43, 7, 8]\n",
    "for position in obstruct_ids:\n",
    "    map.obstruct(position, index=True)\n",
    "\n",
    "map.view()\n",
    "world = map.save()"
   ]
  },
  {
   "cell_type": "code",
   "execution_count": 7,
   "metadata": {},
   "outputs": [],
   "source": [
    "game = Game(map, 50)\n",
    "game.initialize({'1': 1, 'x': 10})"
   ]
  },
  {
   "cell_type": "code",
   "execution_count": 8,
   "metadata": {},
   "outputs": [
    {
     "data": {
      "text/html": [
       "<table>\n",
       "<tbody>\n",
       "<tr><td>o</td><td>1</td><td>o </td><td>o </td><td>o </td><td>o</td><td>o </td><td>[]</td><td>[]</td></tr>\n",
       "<tr><td>o</td><td>x</td><td>o </td><td>[]</td><td>[]</td><td>o</td><td>o </td><td>o </td><td>o </td></tr>\n",
       "<tr><td>o</td><td>o</td><td>[]</td><td>[]</td><td>o </td><td>o</td><td>o </td><td>o </td><td>o </td></tr>\n",
       "<tr><td>o</td><td>o</td><td>[]</td><td>[]</td><td>o </td><td>o</td><td>[]</td><td>[]</td><td>o </td></tr>\n",
       "<tr><td>o</td><td>o</td><td>o </td><td>o </td><td>o </td><td>o</td><td>o </td><td>[]</td><td>o </td></tr>\n",
       "<tr><td>o</td><td>o</td><td>o </td><td>o </td><td>o </td><td>o</td><td>o </td><td>o </td><td>o </td></tr>\n",
       "</tbody>\n",
       "</table>"
      ],
      "text/plain": [
       "<IPython.core.display.HTML object>"
      ]
     },
     "metadata": {},
     "output_type": "display_data"
    }
   ],
   "source": [
    "game.view()"
   ]
  },
  {
   "cell_type": "code",
   "execution_count": 5,
   "metadata": {},
   "outputs": [
    {
     "data": {
      "text/plain": [
       "['up', 'down', 'right']"
      ]
     },
     "execution_count": 5,
     "metadata": {},
     "output_type": "execute_result"
    }
   ],
   "source": [
    "game.valid_actions(1, index=True)"
   ]
  },
  {
   "cell_type": "code",
   "execution_count": 9,
   "metadata": {},
   "outputs": [
    {
     "ename": "NameError",
     "evalue": "name 'se' is not defined",
     "output_type": "error",
     "traceback": [
      "\u001b[0;31m---------------------------------------------------------------------------\u001b[0m",
      "\u001b[0;31mNameError\u001b[0m                                 Traceback (most recent call last)",
      "Cell \u001b[0;32mIn[9], line 1\u001b[0m\n\u001b[0;32m----> 1\u001b[0m game\u001b[39m.\u001b[39;49mupdate({\u001b[39m'\u001b[39;49m\u001b[39m1\u001b[39;49m\u001b[39m'\u001b[39;49m: \u001b[39m'\u001b[39;49m\u001b[39mdown\u001b[39;49m\u001b[39m'\u001b[39;49m})\n\u001b[1;32m      2\u001b[0m \u001b[39m# game.update({'2':'up'})\u001b[39;00m\n",
      "File \u001b[0;32m~/Documents/GitHub/Cognition-and-MARL/RushHour4/interact/game.py:42\u001b[0m, in \u001b[0;36mGame.update\u001b[0;34m(self, actions)\u001b[0m\n\u001b[1;32m     40\u001b[0m     \u001b[39mself\u001b[39m\u001b[39m.\u001b[39m_agent_location[agent] \u001b[39m=\u001b[39m nx_idx\n\u001b[1;32m     41\u001b[0m \u001b[39melse\u001b[39;00m:\n\u001b[0;32m---> 42\u001b[0m     se\n",
      "\u001b[0;31mNameError\u001b[0m: name 'se' is not defined"
     ]
    }
   ],
   "source": [
    "game.update({'1': 'down'})\n",
    "# game.update({'2':'up'})"
   ]
  },
  {
   "cell_type": "code",
   "execution_count": 60,
   "metadata": {},
   "outputs": [],
   "source": [
    "game.update({'2':'down'})"
   ]
  },
  {
   "cell_type": "code",
   "execution_count": null,
   "metadata": {},
   "outputs": [],
   "source": []
  }
 ],
 "metadata": {
  "kernelspec": {
   "display_name": "marl",
   "language": "python",
   "name": "python3"
  },
  "language_info": {
   "codemirror_mode": {
    "name": "ipython",
    "version": 3
   },
   "file_extension": ".py",
   "mimetype": "text/x-python",
   "name": "python",
   "nbconvert_exporter": "python",
   "pygments_lexer": "ipython3",
   "version": "3.10.10"
  },
  "orig_nbformat": 4
 },
 "nbformat": 4,
 "nbformat_minor": 2
}
