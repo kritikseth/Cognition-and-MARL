{
 "cells": [
  {
   "cell_type": "code",
   "execution_count": 1,
   "metadata": {},
   "outputs": [],
   "source": [
    "import numpy as np\n",
    "\n",
    "from RushHour4.core import Map, Environment\n",
    "from RushHour4.interact import Game"
   ]
  },
  {
   "cell_type": "code",
   "execution_count": 2,
   "metadata": {},
   "outputs": [],
   "source": [
    "map = Map(6, 9)\n",
    "obstruct_ids = [12, 13, 21, 30, 20, 29, 33, 34, 43, 7, 8]\n",
    "for position in obstruct_ids:\n",
    "    map.obstruct(position, index=True)\n",
    "    \n",
    "game = Game(map, 50)\n",
    "game.initialize({'1': 1, '2': 10})"
   ]
  },
  {
   "cell_type": "code",
   "execution_count": 3,
   "metadata": {},
   "outputs": [
    {
     "data": {
      "text/html": [
       "<table>\n",
       "<tbody>\n",
       "<tr><td>o</td><td>1</td><td>o </td><td>o </td><td>o </td><td>o</td><td>o </td><td>[]</td><td>[]</td></tr>\n",
       "<tr><td>o</td><td>2</td><td>o </td><td>[]</td><td>[]</td><td>o</td><td>o </td><td>o </td><td>o </td></tr>\n",
       "<tr><td>o</td><td>o</td><td>[]</td><td>[]</td><td>o </td><td>o</td><td>o </td><td>o </td><td>o </td></tr>\n",
       "<tr><td>o</td><td>o</td><td>[]</td><td>[]</td><td>o </td><td>o</td><td>[]</td><td>[]</td><td>o </td></tr>\n",
       "<tr><td>o</td><td>o</td><td>o </td><td>o </td><td>o </td><td>o</td><td>o </td><td>[]</td><td>o </td></tr>\n",
       "<tr><td>o</td><td>o</td><td>o </td><td>o </td><td>o </td><td>o</td><td>o </td><td>o </td><td>o </td></tr>\n",
       "</tbody>\n",
       "</table>"
      ],
      "text/plain": [
       "<IPython.core.display.HTML object>"
      ]
     },
     "metadata": {},
     "output_type": "display_data"
    }
   ],
   "source": [
    "game.view()"
   ]
  },
  {
   "cell_type": "code",
   "execution_count": 4,
   "metadata": {},
   "outputs": [
    {
     "data": {
      "text/plain": [
       "['up', 'left', 'right']"
      ]
     },
     "execution_count": 4,
     "metadata": {},
     "output_type": "execute_result"
    }
   ],
   "source": [
    "game.valid_actions(1, index=True)"
   ]
  },
  {
   "cell_type": "code",
   "execution_count": 5,
   "metadata": {},
   "outputs": [
    {
     "ename": "ValueError",
     "evalue": "Action: down, State: (0, 1) is invalid for Agent: 1",
     "output_type": "error",
     "traceback": [
      "\u001b[0;31m---------------------------------------------------------------------------\u001b[0m",
      "\u001b[0;31mValueError\u001b[0m                                Traceback (most recent call last)",
      "Cell \u001b[0;32mIn[5], line 1\u001b[0m\n\u001b[0;32m----> 1\u001b[0m game\u001b[39m.\u001b[39;49mupdate({\u001b[39m'\u001b[39;49m\u001b[39m1\u001b[39;49m\u001b[39m'\u001b[39;49m: \u001b[39m'\u001b[39;49m\u001b[39mdown\u001b[39;49m\u001b[39m'\u001b[39;49m})\n\u001b[1;32m      2\u001b[0m \u001b[39m# game.update({'2':'up'})\u001b[39;00m\n",
      "File \u001b[0;32m~/Documents/GitHub/Cognition-and-MARL/RushHour4/interact/game.py:36\u001b[0m, in \u001b[0;36mGame.update\u001b[0;34m(self, actions)\u001b[0m\n\u001b[1;32m     34\u001b[0m check \u001b[39m=\u001b[39m [p \u001b[39mfor\u001b[39;00m a, p \u001b[39min\u001b[39;00m \u001b[39mself\u001b[39m\u001b[39m.\u001b[39m_agent_location\u001b[39m.\u001b[39mitems() \u001b[39mif\u001b[39;00m \u001b[39m'\u001b[39m\u001b[39mx\u001b[39m\u001b[39m'\u001b[39m \u001b[39m!=\u001b[39m a]\n\u001b[1;32m     35\u001b[0m \u001b[39mif\u001b[39;00m nx_idx \u001b[39min\u001b[39;00m check:\n\u001b[0;32m---> 36\u001b[0m     \u001b[39mraise\u001b[39;00m \u001b[39mValueError\u001b[39;00m(\u001b[39mf\u001b[39m\u001b[39m'\u001b[39m\u001b[39mAction: \u001b[39m\u001b[39m{\u001b[39;00maction\u001b[39m}\u001b[39;00m\u001b[39m, State: (\u001b[39m\u001b[39m{\u001b[39;00mX\u001b[39m}\u001b[39;00m\u001b[39m, \u001b[39m\u001b[39m{\u001b[39;00mY\u001b[39m}\u001b[39;00m\u001b[39m) is invalid for Agent: \u001b[39m\u001b[39m{\u001b[39;00magent\u001b[39m}\u001b[39;00m\u001b[39m'\u001b[39m)\n\u001b[1;32m     38\u001b[0m X, Y \u001b[39m=\u001b[39m \u001b[39mself\u001b[39m\u001b[39m.\u001b[39mto_coordinate(nx_idx)\n\u001b[1;32m     40\u001b[0m \u001b[39mif\u001b[39;00m \u001b[39mself\u001b[39m\u001b[39m.\u001b[39m_grid[X][Y] \u001b[39m==\u001b[39m \u001b[39m'\u001b[39m\u001b[39mo\u001b[39m\u001b[39m'\u001b[39m:\n",
      "\u001b[0;31mValueError\u001b[0m: Action: down, State: (0, 1) is invalid for Agent: 1"
     ]
    }
   ],
   "source": [
    "game.update({'1': 'down'})\n",
    "# game.update({'2':'up'})"
   ]
  },
  {
   "cell_type": "code",
   "execution_count": 7,
   "metadata": {},
   "outputs": [
    {
     "data": {
      "text/plain": [
       "(1, 1)"
      ]
     },
     "execution_count": 7,
     "metadata": {},
     "output_type": "execute_result"
    }
   ],
   "source": [
    "game.locate_agent('2', index=False)"
   ]
  },
  {
   "cell_type": "code",
   "execution_count": 8,
   "metadata": {},
   "outputs": [
    {
     "data": {
      "text/html": [
       "<table>\n",
       "<tbody>\n",
       "<tr><td>o</td><td>o</td><td>o </td><td>o </td><td>o </td><td>o</td><td>o </td><td>[]</td><td>[]</td></tr>\n",
       "<tr><td>o</td><td>2</td><td>o </td><td>[]</td><td>[]</td><td>o</td><td>o </td><td>o </td><td>o </td></tr>\n",
       "<tr><td>o</td><td>o</td><td>[]</td><td>[]</td><td>o </td><td>o</td><td>o </td><td>o </td><td>o </td></tr>\n",
       "<tr><td>o</td><td>o</td><td>[]</td><td>[]</td><td>o </td><td>o</td><td>[]</td><td>[]</td><td>o </td></tr>\n",
       "<tr><td>o</td><td>o</td><td>o </td><td>o </td><td>o </td><td>o</td><td>o </td><td>[]</td><td>o </td></tr>\n",
       "<tr><td>o</td><td>o</td><td>o </td><td>o </td><td>o </td><td>o</td><td>o </td><td>o </td><td>o </td></tr>\n",
       "</tbody>\n",
       "</table>"
      ],
      "text/plain": [
       "<IPython.core.display.HTML object>"
      ]
     },
     "metadata": {},
     "output_type": "display_data"
    }
   ],
   "source": [
    "game.view()"
   ]
  },
  {
   "cell_type": "code",
   "execution_count": null,
   "metadata": {},
   "outputs": [],
   "source": []
  }
 ],
 "metadata": {
  "kernelspec": {
   "display_name": "marl",
   "language": "python",
   "name": "python3"
  },
  "language_info": {
   "codemirror_mode": {
    "name": "ipython",
    "version": 3
   },
   "file_extension": ".py",
   "mimetype": "text/x-python",
   "name": "python",
   "nbconvert_exporter": "python",
   "pygments_lexer": "ipython3",
   "version": "3.10.10"
  },
  "orig_nbformat": 4
 },
 "nbformat": 4,
 "nbformat_minor": 2
}
