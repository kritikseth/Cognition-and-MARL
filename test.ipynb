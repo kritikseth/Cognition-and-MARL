{
 "cells": [
  {
   "cell_type": "code",
   "execution_count": 2,
   "metadata": {},
   "outputs": [],
   "source": [
    "import numpy as np\n",
    "\n",
    "from RushHour4.core import Map, Environment\n",
    "from RushHour4.interact import Game"
   ]
  },
  {
   "cell_type": "code",
   "execution_count": 3,
   "metadata": {},
   "outputs": [],
   "source": [
    "map = Map(15, 20)"
   ]
  },
  {
   "cell_type": "code",
   "execution_count": 13,
   "metadata": {},
   "outputs": [],
   "source": [
    "obstruct_ids = [42, 43, 44, 45, 46, 64, 65, 66, 67, 68, 69, 281,\n",
    "                85, 105, 125, 145, 170, 171, 172, 173, 191, 192,\n",
    "                193, 282, 283, 237, 257, 277]\n",
    "for position in obstruct_ids:\n",
    "    map.obstruct(position, index=True)"
   ]
  },
  {
   "cell_type": "code",
   "execution_count": 14,
   "metadata": {},
   "outputs": [
    {
     "data": {
      "text/html": [
       "<table>\n",
       "<tbody>\n",
       "<tr><td style=\"text-align: right;\">  0</td><td style=\"text-align: right;\">  1</td><td style=\"text-align: right;\">  2</td><td style=\"text-align: right;\">  3</td><td style=\"text-align: right;\">  4</td><td style=\"text-align: right;\">  5</td><td style=\"text-align: right;\">  6</td><td style=\"text-align: right;\">  7</td><td style=\"text-align: right;\">  8</td><td style=\"text-align: right;\">  9</td><td style=\"text-align: right;\"> 10</td><td style=\"text-align: right;\"> 11</td><td style=\"text-align: right;\"> 12</td><td style=\"text-align: right;\"> 13</td><td style=\"text-align: right;\"> 14</td><td style=\"text-align: right;\"> 15</td><td style=\"text-align: right;\"> 16</td><td style=\"text-align: right;\"> 17</td><td style=\"text-align: right;\"> 18</td><td style=\"text-align: right;\"> 19</td></tr>\n",
       "<tr><td style=\"text-align: right;\"> 20</td><td style=\"text-align: right;\"> 21</td><td style=\"text-align: right;\"> 22</td><td style=\"text-align: right;\"> 23</td><td style=\"text-align: right;\"> 24</td><td style=\"text-align: right;\"> 25</td><td style=\"text-align: right;\"> 26</td><td style=\"text-align: right;\"> 27</td><td style=\"text-align: right;\"> 28</td><td style=\"text-align: right;\"> 29</td><td style=\"text-align: right;\"> 30</td><td style=\"text-align: right;\"> 31</td><td style=\"text-align: right;\"> 32</td><td style=\"text-align: right;\"> 33</td><td style=\"text-align: right;\"> 34</td><td style=\"text-align: right;\"> 35</td><td style=\"text-align: right;\"> 36</td><td style=\"text-align: right;\"> 37</td><td style=\"text-align: right;\"> 38</td><td style=\"text-align: right;\"> 39</td></tr>\n",
       "<tr><td style=\"text-align: right;\"> 40</td><td style=\"text-align: right;\"> 41</td><td style=\"text-align: right;\"> 42</td><td style=\"text-align: right;\"> 43</td><td style=\"text-align: right;\"> 44</td><td style=\"text-align: right;\"> 45</td><td style=\"text-align: right;\"> 46</td><td style=\"text-align: right;\"> 47</td><td style=\"text-align: right;\"> 48</td><td style=\"text-align: right;\"> 49</td><td style=\"text-align: right;\"> 50</td><td style=\"text-align: right;\"> 51</td><td style=\"text-align: right;\"> 52</td><td style=\"text-align: right;\"> 53</td><td style=\"text-align: right;\"> 54</td><td style=\"text-align: right;\"> 55</td><td style=\"text-align: right;\"> 56</td><td style=\"text-align: right;\"> 57</td><td style=\"text-align: right;\"> 58</td><td style=\"text-align: right;\"> 59</td></tr>\n",
       "<tr><td style=\"text-align: right;\"> 60</td><td style=\"text-align: right;\"> 61</td><td style=\"text-align: right;\"> 62</td><td style=\"text-align: right;\"> 63</td><td style=\"text-align: right;\"> 64</td><td style=\"text-align: right;\"> 65</td><td style=\"text-align: right;\"> 66</td><td style=\"text-align: right;\"> 67</td><td style=\"text-align: right;\"> 68</td><td style=\"text-align: right;\"> 69</td><td style=\"text-align: right;\"> 70</td><td style=\"text-align: right;\"> 71</td><td style=\"text-align: right;\"> 72</td><td style=\"text-align: right;\"> 73</td><td style=\"text-align: right;\"> 74</td><td style=\"text-align: right;\"> 75</td><td style=\"text-align: right;\"> 76</td><td style=\"text-align: right;\"> 77</td><td style=\"text-align: right;\"> 78</td><td style=\"text-align: right;\"> 79</td></tr>\n",
       "<tr><td style=\"text-align: right;\"> 80</td><td style=\"text-align: right;\"> 81</td><td style=\"text-align: right;\"> 82</td><td style=\"text-align: right;\"> 83</td><td style=\"text-align: right;\"> 84</td><td style=\"text-align: right;\"> 85</td><td style=\"text-align: right;\"> 86</td><td style=\"text-align: right;\"> 87</td><td style=\"text-align: right;\"> 88</td><td style=\"text-align: right;\"> 89</td><td style=\"text-align: right;\"> 90</td><td style=\"text-align: right;\"> 91</td><td style=\"text-align: right;\"> 92</td><td style=\"text-align: right;\"> 93</td><td style=\"text-align: right;\"> 94</td><td style=\"text-align: right;\"> 95</td><td style=\"text-align: right;\"> 96</td><td style=\"text-align: right;\"> 97</td><td style=\"text-align: right;\"> 98</td><td style=\"text-align: right;\"> 99</td></tr>\n",
       "<tr><td style=\"text-align: right;\">100</td><td style=\"text-align: right;\">101</td><td style=\"text-align: right;\">102</td><td style=\"text-align: right;\">103</td><td style=\"text-align: right;\">104</td><td style=\"text-align: right;\">105</td><td style=\"text-align: right;\">106</td><td style=\"text-align: right;\">107</td><td style=\"text-align: right;\">108</td><td style=\"text-align: right;\">109</td><td style=\"text-align: right;\">110</td><td style=\"text-align: right;\">111</td><td style=\"text-align: right;\">112</td><td style=\"text-align: right;\">113</td><td style=\"text-align: right;\">114</td><td style=\"text-align: right;\">115</td><td style=\"text-align: right;\">116</td><td style=\"text-align: right;\">117</td><td style=\"text-align: right;\">118</td><td style=\"text-align: right;\">119</td></tr>\n",
       "<tr><td style=\"text-align: right;\">120</td><td style=\"text-align: right;\">121</td><td style=\"text-align: right;\">122</td><td style=\"text-align: right;\">123</td><td style=\"text-align: right;\">124</td><td style=\"text-align: right;\">125</td><td style=\"text-align: right;\">126</td><td style=\"text-align: right;\">127</td><td style=\"text-align: right;\">128</td><td style=\"text-align: right;\">129</td><td style=\"text-align: right;\">130</td><td style=\"text-align: right;\">131</td><td style=\"text-align: right;\">132</td><td style=\"text-align: right;\">133</td><td style=\"text-align: right;\">134</td><td style=\"text-align: right;\">135</td><td style=\"text-align: right;\">136</td><td style=\"text-align: right;\">137</td><td style=\"text-align: right;\">138</td><td style=\"text-align: right;\">139</td></tr>\n",
       "<tr><td style=\"text-align: right;\">140</td><td style=\"text-align: right;\">141</td><td style=\"text-align: right;\">142</td><td style=\"text-align: right;\">143</td><td style=\"text-align: right;\">144</td><td style=\"text-align: right;\">145</td><td style=\"text-align: right;\">146</td><td style=\"text-align: right;\">147</td><td style=\"text-align: right;\">148</td><td style=\"text-align: right;\">149</td><td style=\"text-align: right;\">150</td><td style=\"text-align: right;\">151</td><td style=\"text-align: right;\">152</td><td style=\"text-align: right;\">153</td><td style=\"text-align: right;\">154</td><td style=\"text-align: right;\">155</td><td style=\"text-align: right;\">156</td><td style=\"text-align: right;\">157</td><td style=\"text-align: right;\">158</td><td style=\"text-align: right;\">159</td></tr>\n",
       "<tr><td style=\"text-align: right;\">160</td><td style=\"text-align: right;\">161</td><td style=\"text-align: right;\">162</td><td style=\"text-align: right;\">163</td><td style=\"text-align: right;\">164</td><td style=\"text-align: right;\">165</td><td style=\"text-align: right;\">166</td><td style=\"text-align: right;\">167</td><td style=\"text-align: right;\">168</td><td style=\"text-align: right;\">169</td><td style=\"text-align: right;\">170</td><td style=\"text-align: right;\">171</td><td style=\"text-align: right;\">172</td><td style=\"text-align: right;\">173</td><td style=\"text-align: right;\">174</td><td style=\"text-align: right;\">175</td><td style=\"text-align: right;\">176</td><td style=\"text-align: right;\">177</td><td style=\"text-align: right;\">178</td><td style=\"text-align: right;\">179</td></tr>\n",
       "<tr><td style=\"text-align: right;\">180</td><td style=\"text-align: right;\">181</td><td style=\"text-align: right;\">182</td><td style=\"text-align: right;\">183</td><td style=\"text-align: right;\">184</td><td style=\"text-align: right;\">185</td><td style=\"text-align: right;\">186</td><td style=\"text-align: right;\">187</td><td style=\"text-align: right;\">188</td><td style=\"text-align: right;\">189</td><td style=\"text-align: right;\">190</td><td style=\"text-align: right;\">191</td><td style=\"text-align: right;\">192</td><td style=\"text-align: right;\">193</td><td style=\"text-align: right;\">194</td><td style=\"text-align: right;\">195</td><td style=\"text-align: right;\">196</td><td style=\"text-align: right;\">197</td><td style=\"text-align: right;\">198</td><td style=\"text-align: right;\">199</td></tr>\n",
       "<tr><td style=\"text-align: right;\">200</td><td style=\"text-align: right;\">201</td><td style=\"text-align: right;\">202</td><td style=\"text-align: right;\">203</td><td style=\"text-align: right;\">204</td><td style=\"text-align: right;\">205</td><td style=\"text-align: right;\">206</td><td style=\"text-align: right;\">207</td><td style=\"text-align: right;\">208</td><td style=\"text-align: right;\">209</td><td style=\"text-align: right;\">210</td><td style=\"text-align: right;\">211</td><td style=\"text-align: right;\">212</td><td style=\"text-align: right;\">213</td><td style=\"text-align: right;\">214</td><td style=\"text-align: right;\">215</td><td style=\"text-align: right;\">216</td><td style=\"text-align: right;\">217</td><td style=\"text-align: right;\">218</td><td style=\"text-align: right;\">219</td></tr>\n",
       "<tr><td style=\"text-align: right;\">220</td><td style=\"text-align: right;\">221</td><td style=\"text-align: right;\">222</td><td style=\"text-align: right;\">223</td><td style=\"text-align: right;\">224</td><td style=\"text-align: right;\">225</td><td style=\"text-align: right;\">226</td><td style=\"text-align: right;\">227</td><td style=\"text-align: right;\">228</td><td style=\"text-align: right;\">229</td><td style=\"text-align: right;\">230</td><td style=\"text-align: right;\">231</td><td style=\"text-align: right;\">232</td><td style=\"text-align: right;\">233</td><td style=\"text-align: right;\">234</td><td style=\"text-align: right;\">235</td><td style=\"text-align: right;\">236</td><td style=\"text-align: right;\">237</td><td style=\"text-align: right;\">238</td><td style=\"text-align: right;\">239</td></tr>\n",
       "<tr><td style=\"text-align: right;\">240</td><td style=\"text-align: right;\">241</td><td style=\"text-align: right;\">242</td><td style=\"text-align: right;\">243</td><td style=\"text-align: right;\">244</td><td style=\"text-align: right;\">245</td><td style=\"text-align: right;\">246</td><td style=\"text-align: right;\">247</td><td style=\"text-align: right;\">248</td><td style=\"text-align: right;\">249</td><td style=\"text-align: right;\">250</td><td style=\"text-align: right;\">251</td><td style=\"text-align: right;\">252</td><td style=\"text-align: right;\">253</td><td style=\"text-align: right;\">254</td><td style=\"text-align: right;\">255</td><td style=\"text-align: right;\">256</td><td style=\"text-align: right;\">257</td><td style=\"text-align: right;\">258</td><td style=\"text-align: right;\">259</td></tr>\n",
       "<tr><td style=\"text-align: right;\">260</td><td style=\"text-align: right;\">261</td><td style=\"text-align: right;\">262</td><td style=\"text-align: right;\">263</td><td style=\"text-align: right;\">264</td><td style=\"text-align: right;\">265</td><td style=\"text-align: right;\">266</td><td style=\"text-align: right;\">267</td><td style=\"text-align: right;\">268</td><td style=\"text-align: right;\">269</td><td style=\"text-align: right;\">270</td><td style=\"text-align: right;\">271</td><td style=\"text-align: right;\">272</td><td style=\"text-align: right;\">273</td><td style=\"text-align: right;\">274</td><td style=\"text-align: right;\">275</td><td style=\"text-align: right;\">276</td><td style=\"text-align: right;\">277</td><td style=\"text-align: right;\">278</td><td style=\"text-align: right;\">279</td></tr>\n",
       "<tr><td style=\"text-align: right;\">280</td><td style=\"text-align: right;\">281</td><td style=\"text-align: right;\">282</td><td style=\"text-align: right;\">283</td><td style=\"text-align: right;\">284</td><td style=\"text-align: right;\">285</td><td style=\"text-align: right;\">286</td><td style=\"text-align: right;\">287</td><td style=\"text-align: right;\">288</td><td style=\"text-align: right;\">289</td><td style=\"text-align: right;\">290</td><td style=\"text-align: right;\">291</td><td style=\"text-align: right;\">292</td><td style=\"text-align: right;\">293</td><td style=\"text-align: right;\">294</td><td style=\"text-align: right;\">295</td><td style=\"text-align: right;\">296</td><td style=\"text-align: right;\">297</td><td style=\"text-align: right;\">298</td><td style=\"text-align: right;\">299</td></tr>\n",
       "</tbody>\n",
       "</table>"
      ],
      "text/plain": [
       "<IPython.core.display.HTML object>"
      ]
     },
     "metadata": {},
     "output_type": "display_data"
    },
    {
     "data": {
      "text/html": [
       "<table>\n",
       "<tbody>\n",
       "<tr><td>(  0,   0 )</td><td>(  0,   1 )</td><td>(  0,   2 )</td><td>(  0,   3 )</td><td>(  0,   4 )</td><td>(  0,   5 )</td><td>(  0,   6 )</td><td>(  0,   7 )</td><td>(  0,   8 )</td><td>(  0,   9 )</td><td>(  0,  10 )</td><td>(  0,  11 )</td><td>(  0,  12 )</td><td>(  0,  13 )</td><td>(  0,  14 )</td><td>(  0,  15 )</td><td>(  0,  16 )</td><td>(  0,  17 )</td><td>(  0,  18 )</td><td>(  0,  19 )</td></tr>\n",
       "<tr><td>(  1,   0 )</td><td>(  1,   1 )</td><td>(  1,   2 )</td><td>(  1,   3 )</td><td>(  1,   4 )</td><td>(  1,   5 )</td><td>(  1,   6 )</td><td>(  1,   7 )</td><td>(  1,   8 )</td><td>(  1,   9 )</td><td>(  1,  10 )</td><td>(  1,  11 )</td><td>(  1,  12 )</td><td>(  1,  13 )</td><td>(  1,  14 )</td><td>(  1,  15 )</td><td>(  1,  16 )</td><td>(  1,  17 )</td><td>(  1,  18 )</td><td>(  1,  19 )</td></tr>\n",
       "<tr><td>(  2,   0 )</td><td>(  2,   1 )</td><td>(  2,   2 )</td><td>(  2,   3 )</td><td>(  2,   4 )</td><td>(  2,   5 )</td><td>(  2,   6 )</td><td>(  2,   7 )</td><td>(  2,   8 )</td><td>(  2,   9 )</td><td>(  2,  10 )</td><td>(  2,  11 )</td><td>(  2,  12 )</td><td>(  2,  13 )</td><td>(  2,  14 )</td><td>(  2,  15 )</td><td>(  2,  16 )</td><td>(  2,  17 )</td><td>(  2,  18 )</td><td>(  2,  19 )</td></tr>\n",
       "<tr><td>(  3,   0 )</td><td>(  3,   1 )</td><td>(  3,   2 )</td><td>(  3,   3 )</td><td>(  3,   4 )</td><td>(  3,   5 )</td><td>(  3,   6 )</td><td>(  3,   7 )</td><td>(  3,   8 )</td><td>(  3,   9 )</td><td>(  3,  10 )</td><td>(  3,  11 )</td><td>(  3,  12 )</td><td>(  3,  13 )</td><td>(  3,  14 )</td><td>(  3,  15 )</td><td>(  3,  16 )</td><td>(  3,  17 )</td><td>(  3,  18 )</td><td>(  3,  19 )</td></tr>\n",
       "<tr><td>(  4,   0 )</td><td>(  4,   1 )</td><td>(  4,   2 )</td><td>(  4,   3 )</td><td>(  4,   4 )</td><td>(  4,   5 )</td><td>(  4,   6 )</td><td>(  4,   7 )</td><td>(  4,   8 )</td><td>(  4,   9 )</td><td>(  4,  10 )</td><td>(  4,  11 )</td><td>(  4,  12 )</td><td>(  4,  13 )</td><td>(  4,  14 )</td><td>(  4,  15 )</td><td>(  4,  16 )</td><td>(  4,  17 )</td><td>(  4,  18 )</td><td>(  4,  19 )</td></tr>\n",
       "<tr><td>(  5,   0 )</td><td>(  5,   1 )</td><td>(  5,   2 )</td><td>(  5,   3 )</td><td>(  5,   4 )</td><td>(  5,   5 )</td><td>(  5,   6 )</td><td>(  5,   7 )</td><td>(  5,   8 )</td><td>(  5,   9 )</td><td>(  5,  10 )</td><td>(  5,  11 )</td><td>(  5,  12 )</td><td>(  5,  13 )</td><td>(  5,  14 )</td><td>(  5,  15 )</td><td>(  5,  16 )</td><td>(  5,  17 )</td><td>(  5,  18 )</td><td>(  5,  19 )</td></tr>\n",
       "<tr><td>(  6,   0 )</td><td>(  6,   1 )</td><td>(  6,   2 )</td><td>(  6,   3 )</td><td>(  6,   4 )</td><td>(  6,   5 )</td><td>(  6,   6 )</td><td>(  6,   7 )</td><td>(  6,   8 )</td><td>(  6,   9 )</td><td>(  6,  10 )</td><td>(  6,  11 )</td><td>(  6,  12 )</td><td>(  6,  13 )</td><td>(  6,  14 )</td><td>(  6,  15 )</td><td>(  6,  16 )</td><td>(  6,  17 )</td><td>(  6,  18 )</td><td>(  6,  19 )</td></tr>\n",
       "<tr><td>(  7,   0 )</td><td>(  7,   1 )</td><td>(  7,   2 )</td><td>(  7,   3 )</td><td>(  7,   4 )</td><td>(  7,   5 )</td><td>(  7,   6 )</td><td>(  7,   7 )</td><td>(  7,   8 )</td><td>(  7,   9 )</td><td>(  7,  10 )</td><td>(  7,  11 )</td><td>(  7,  12 )</td><td>(  7,  13 )</td><td>(  7,  14 )</td><td>(  7,  15 )</td><td>(  7,  16 )</td><td>(  7,  17 )</td><td>(  7,  18 )</td><td>(  7,  19 )</td></tr>\n",
       "<tr><td>(  8,   0 )</td><td>(  8,   1 )</td><td>(  8,   2 )</td><td>(  8,   3 )</td><td>(  8,   4 )</td><td>(  8,   5 )</td><td>(  8,   6 )</td><td>(  8,   7 )</td><td>(  8,   8 )</td><td>(  8,   9 )</td><td>(  8,  10 )</td><td>(  8,  11 )</td><td>(  8,  12 )</td><td>(  8,  13 )</td><td>(  8,  14 )</td><td>(  8,  15 )</td><td>(  8,  16 )</td><td>(  8,  17 )</td><td>(  8,  18 )</td><td>(  8,  19 )</td></tr>\n",
       "<tr><td>(  9,   0 )</td><td>(  9,   1 )</td><td>(  9,   2 )</td><td>(  9,   3 )</td><td>(  9,   4 )</td><td>(  9,   5 )</td><td>(  9,   6 )</td><td>(  9,   7 )</td><td>(  9,   8 )</td><td>(  9,   9 )</td><td>(  9,  10 )</td><td>(  9,  11 )</td><td>(  9,  12 )</td><td>(  9,  13 )</td><td>(  9,  14 )</td><td>(  9,  15 )</td><td>(  9,  16 )</td><td>(  9,  17 )</td><td>(  9,  18 )</td><td>(  9,  19 )</td></tr>\n",
       "<tr><td>( 10,   0 )</td><td>( 10,   1 )</td><td>( 10,   2 )</td><td>( 10,   3 )</td><td>( 10,   4 )</td><td>( 10,   5 )</td><td>( 10,   6 )</td><td>( 10,   7 )</td><td>( 10,   8 )</td><td>( 10,   9 )</td><td>( 10,  10 )</td><td>( 10,  11 )</td><td>( 10,  12 )</td><td>( 10,  13 )</td><td>( 10,  14 )</td><td>( 10,  15 )</td><td>( 10,  16 )</td><td>( 10,  17 )</td><td>( 10,  18 )</td><td>( 10,  19 )</td></tr>\n",
       "<tr><td>( 11,   0 )</td><td>( 11,   1 )</td><td>( 11,   2 )</td><td>( 11,   3 )</td><td>( 11,   4 )</td><td>( 11,   5 )</td><td>( 11,   6 )</td><td>( 11,   7 )</td><td>( 11,   8 )</td><td>( 11,   9 )</td><td>( 11,  10 )</td><td>( 11,  11 )</td><td>( 11,  12 )</td><td>( 11,  13 )</td><td>( 11,  14 )</td><td>( 11,  15 )</td><td>( 11,  16 )</td><td>( 11,  17 )</td><td>( 11,  18 )</td><td>( 11,  19 )</td></tr>\n",
       "<tr><td>( 12,   0 )</td><td>( 12,   1 )</td><td>( 12,   2 )</td><td>( 12,   3 )</td><td>( 12,   4 )</td><td>( 12,   5 )</td><td>( 12,   6 )</td><td>( 12,   7 )</td><td>( 12,   8 )</td><td>( 12,   9 )</td><td>( 12,  10 )</td><td>( 12,  11 )</td><td>( 12,  12 )</td><td>( 12,  13 )</td><td>( 12,  14 )</td><td>( 12,  15 )</td><td>( 12,  16 )</td><td>( 12,  17 )</td><td>( 12,  18 )</td><td>( 12,  19 )</td></tr>\n",
       "<tr><td>( 13,   0 )</td><td>( 13,   1 )</td><td>( 13,   2 )</td><td>( 13,   3 )</td><td>( 13,   4 )</td><td>( 13,   5 )</td><td>( 13,   6 )</td><td>( 13,   7 )</td><td>( 13,   8 )</td><td>( 13,   9 )</td><td>( 13,  10 )</td><td>( 13,  11 )</td><td>( 13,  12 )</td><td>( 13,  13 )</td><td>( 13,  14 )</td><td>( 13,  15 )</td><td>( 13,  16 )</td><td>( 13,  17 )</td><td>( 13,  18 )</td><td>( 13,  19 )</td></tr>\n",
       "<tr><td>( 14,   0 )</td><td>( 14,   1 )</td><td>( 14,   2 )</td><td>( 14,   3 )</td><td>( 14,   4 )</td><td>( 14,   5 )</td><td>( 14,   6 )</td><td>( 14,   7 )</td><td>( 14,   8 )</td><td>( 14,   9 )</td><td>( 14,  10 )</td><td>( 14,  11 )</td><td>( 14,  12 )</td><td>( 14,  13 )</td><td>( 14,  14 )</td><td>( 14,  15 )</td><td>( 14,  16 )</td><td>( 14,  17 )</td><td>( 14,  18 )</td><td>( 14,  19 )</td></tr>\n",
       "</tbody>\n",
       "</table>"
      ],
      "text/plain": [
       "<IPython.core.display.HTML object>"
      ]
     },
     "metadata": {},
     "output_type": "display_data"
    },
    {
     "data": {
      "text/html": [
       "<table>\n",
       "<tbody>\n",
       "<tr><td>o</td><td>o </td><td>o </td><td>o </td><td>o </td><td>o </td><td>o </td><td>o </td><td>o </td><td>o </td><td>o </td><td>o </td><td>o </td><td>o </td><td>o</td><td>o</td><td>o</td><td>o</td><td>o</td><td>o</td></tr>\n",
       "<tr><td>o</td><td>o </td><td>o </td><td>o </td><td>o </td><td>o </td><td>o </td><td>o </td><td>o </td><td>o </td><td>o </td><td>o </td><td>o </td><td>o </td><td>o</td><td>o</td><td>o</td><td>o</td><td>o</td><td>o</td></tr>\n",
       "<tr><td>o</td><td>[]</td><td>[]</td><td>[]</td><td>[]</td><td>[]</td><td>[]</td><td>o </td><td>o </td><td>o </td><td>o </td><td>o </td><td>o </td><td>o </td><td>o</td><td>o</td><td>o</td><td>o</td><td>o</td><td>o</td></tr>\n",
       "<tr><td>o</td><td>o </td><td>o </td><td>o </td><td>[]</td><td>[]</td><td>[]</td><td>[]</td><td>[]</td><td>[]</td><td>o </td><td>o </td><td>o </td><td>o </td><td>o</td><td>o</td><td>o</td><td>o</td><td>o</td><td>o</td></tr>\n",
       "<tr><td>o</td><td>o </td><td>o </td><td>o </td><td>o </td><td>[]</td><td>o </td><td>o </td><td>o </td><td>o </td><td>o </td><td>o </td><td>o </td><td>o </td><td>o</td><td>o</td><td>o</td><td>o</td><td>o</td><td>o</td></tr>\n",
       "<tr><td>o</td><td>o </td><td>o </td><td>o </td><td>o </td><td>[]</td><td>o </td><td>o </td><td>o </td><td>o </td><td>o </td><td>o </td><td>o </td><td>o </td><td>o</td><td>o</td><td>o</td><td>o</td><td>o</td><td>o</td></tr>\n",
       "<tr><td>o</td><td>o </td><td>o </td><td>o </td><td>o </td><td>[]</td><td>o </td><td>o </td><td>o </td><td>o </td><td>o </td><td>o </td><td>o </td><td>o </td><td>o</td><td>o</td><td>o</td><td>o</td><td>o</td><td>o</td></tr>\n",
       "<tr><td>o</td><td>o </td><td>o </td><td>o </td><td>o </td><td>[]</td><td>o </td><td>o </td><td>o </td><td>o </td><td>o </td><td>o </td><td>o </td><td>o </td><td>o</td><td>o</td><td>o</td><td>o</td><td>o</td><td>o</td></tr>\n",
       "<tr><td>o</td><td>o </td><td>o </td><td>o </td><td>o </td><td>o </td><td>o </td><td>o </td><td>o </td><td>o </td><td>[]</td><td>[]</td><td>[]</td><td>[]</td><td>o</td><td>o</td><td>o</td><td>o</td><td>o</td><td>o</td></tr>\n",
       "<tr><td>o</td><td>o </td><td>o </td><td>o </td><td>o </td><td>o </td><td>o </td><td>o </td><td>o </td><td>o </td><td>o </td><td>[]</td><td>[]</td><td>[]</td><td>o</td><td>o</td><td>o</td><td>o</td><td>o</td><td>o</td></tr>\n",
       "<tr><td>o</td><td>o </td><td>o </td><td>o </td><td>o </td><td>o </td><td>o </td><td>o </td><td>o </td><td>o </td><td>o </td><td>o </td><td>o </td><td>o </td><td>o</td><td>o</td><td>o</td><td>o</td><td>o</td><td>o</td></tr>\n",
       "<tr><td>o</td><td>o </td><td>o </td><td>o </td><td>o </td><td>o </td><td>o </td><td>o </td><td>o </td><td>o </td><td>o </td><td>o </td><td>o </td><td>o </td><td>o</td><td>o</td><td>o</td><td>o</td><td>o</td><td>o</td></tr>\n",
       "<tr><td>o</td><td>o </td><td>o </td><td>o </td><td>o </td><td>o </td><td>o </td><td>o </td><td>o </td><td>o </td><td>o </td><td>o </td><td>o </td><td>o </td><td>o</td><td>o</td><td>o</td><td>o</td><td>o</td><td>o</td></tr>\n",
       "<tr><td>o</td><td>o </td><td>o </td><td>o </td><td>o </td><td>o </td><td>o </td><td>o </td><td>o </td><td>o </td><td>o </td><td>o </td><td>o </td><td>o </td><td>o</td><td>o</td><td>o</td><td>o</td><td>o</td><td>o</td></tr>\n",
       "<tr><td>o</td><td>[]</td><td>[]</td><td>[]</td><td>o </td><td>o </td><td>o </td><td>o </td><td>o </td><td>o </td><td>o </td><td>o </td><td>o </td><td>o </td><td>o</td><td>o</td><td>o</td><td>o</td><td>o</td><td>o</td></tr>\n",
       "</tbody>\n",
       "</table>"
      ],
      "text/plain": [
       "<IPython.core.display.HTML object>"
      ]
     },
     "metadata": {},
     "output_type": "display_data"
    }
   ],
   "source": [
    "map.index\n",
    "map.coordinate\n",
    "map.view()"
   ]
  },
  {
   "cell_type": "code",
   "execution_count": 4,
   "metadata": {},
   "outputs": [
    {
     "data": {
      "text/html": [
       "<table>\n",
       "<tbody>\n",
       "<tr><td>o</td><td>o</td><td>o </td><td>o </td><td>o </td><td>o</td><td>o </td><td>[]</td><td>[]</td></tr>\n",
       "<tr><td>o</td><td>o</td><td>o </td><td>[]</td><td>[]</td><td>o</td><td>o </td><td>o </td><td>o </td></tr>\n",
       "<tr><td>o</td><td>o</td><td>[]</td><td>[]</td><td>o </td><td>o</td><td>o </td><td>o </td><td>o </td></tr>\n",
       "<tr><td>o</td><td>o</td><td>[]</td><td>[]</td><td>o </td><td>o</td><td>[]</td><td>[]</td><td>o </td></tr>\n",
       "<tr><td>o</td><td>o</td><td>o </td><td>o </td><td>o </td><td>o</td><td>o </td><td>[]</td><td>o </td></tr>\n",
       "<tr><td>o</td><td>o</td><td>o </td><td>o </td><td>o </td><td>o</td><td>o </td><td>o </td><td>o </td></tr>\n",
       "</tbody>\n",
       "</table>"
      ],
      "text/plain": [
       "<IPython.core.display.HTML object>"
      ]
     },
     "metadata": {},
     "output_type": "display_data"
    }
   ],
   "source": [
    "map = Map(6, 9)\n",
    "obstruct_ids = [12, 13, 21, 30, 20, 29, 33, 34, 43, 7, 8]\n",
    "for position in obstruct_ids:\n",
    "    map.obstruct(position, index=True)\n",
    "\n",
    "map.view()\n",
    "world = map.save()"
   ]
  },
  {
   "cell_type": "code",
   "execution_count": 5,
   "metadata": {},
   "outputs": [],
   "source": [
    "# env = Environment(world)\n",
    "env = Environment(map)"
   ]
  },
  {
   "cell_type": "code",
   "execution_count": 6,
   "metadata": {},
   "outputs": [
    {
     "data": {
      "text/plain": [
       "['down', 'right']"
      ]
     },
     "execution_count": 6,
     "metadata": {},
     "output_type": "execute_result"
    }
   ],
   "source": [
    "env.valid_actions(22, index=True)"
   ]
  },
  {
   "cell_type": "code",
   "execution_count": 7,
   "metadata": {},
   "outputs": [
    {
     "data": {
      "text/plain": [
       "31"
      ]
     },
     "execution_count": 7,
     "metadata": {},
     "output_type": "execute_result"
    }
   ],
   "source": [
    "env.down(22, index=True)"
   ]
  },
  {
   "cell_type": "code",
   "execution_count": 8,
   "metadata": {},
   "outputs": [
    {
     "data": {
      "text/plain": [
       "['up', 'down', 'right']"
      ]
     },
     "execution_count": 8,
     "metadata": {},
     "output_type": "execute_result"
    }
   ],
   "source": [
    "env.valid_actions(31, index=True)"
   ]
  },
  {
   "cell_type": "code",
   "execution_count": 9,
   "metadata": {},
   "outputs": [
    {
     "name": "stdout",
     "output_type": "stream",
     "text": [
      "22\n",
      "40\n",
      "32\n"
     ]
    }
   ],
   "source": [
    "for action in ['up', 'down', 'right']:\n",
    "    print(env.next(action, 31, index=True))"
   ]
  },
  {
   "cell_type": "code",
   "execution_count": 10,
   "metadata": {},
   "outputs": [
    {
     "data": {
      "text/html": [
       "<table>\n",
       "<tbody>\n",
       "<tr><td>1</td><td>o</td><td>o </td><td>o </td><td>o </td><td>o</td><td>o </td><td>[]</td><td>[]</td></tr>\n",
       "<tr><td>o</td><td>o</td><td>o </td><td>[]</td><td>[]</td><td>o</td><td>o </td><td>o </td><td>o </td></tr>\n",
       "<tr><td>o</td><td>o</td><td>[]</td><td>[]</td><td>o </td><td>o</td><td>o </td><td>o </td><td>o </td></tr>\n",
       "<tr><td>o</td><td>o</td><td>[]</td><td>[]</td><td>o </td><td>o</td><td>[]</td><td>[]</td><td>x </td></tr>\n",
       "<tr><td>o</td><td>o</td><td>o </td><td>o </td><td>o </td><td>o</td><td>o </td><td>[]</td><td>o </td></tr>\n",
       "<tr><td>2</td><td>o</td><td>o </td><td>o </td><td>o </td><td>o</td><td>o </td><td>o </td><td>o </td></tr>\n",
       "</tbody>\n",
       "</table>"
      ],
      "text/plain": [
       "<IPython.core.display.HTML object>"
      ]
     },
     "metadata": {},
     "output_type": "display_data"
    }
   ],
   "source": [
    "game = Game(map, 50)\n",
    "\n",
    "game.initialize({'1': 0, '2': 45, 'x': 35})\n",
    "game.view()"
   ]
  },
  {
   "cell_type": "code",
   "execution_count": 14,
   "metadata": {},
   "outputs": [
    {
     "data": {
      "text/html": [
       "<table>\n",
       "<tbody>\n",
       "<tr><td>o</td><td>o</td><td>o </td><td>o </td><td>o </td><td>o</td><td>o </td><td>[]</td><td>[]</td></tr>\n",
       "<tr><td>o</td><td>1</td><td>o </td><td>[]</td><td>[]</td><td>o</td><td>o </td><td>o </td><td>o </td></tr>\n",
       "<tr><td>o</td><td>o</td><td>[]</td><td>[]</td><td>o </td><td>o</td><td>o </td><td>o </td><td>o </td></tr>\n",
       "<tr><td>o</td><td>o</td><td>[]</td><td>[]</td><td>o </td><td>o</td><td>[]</td><td>[]</td><td>x </td></tr>\n",
       "<tr><td>2</td><td>o</td><td>o </td><td>o </td><td>o </td><td>o</td><td>o </td><td>[]</td><td>o </td></tr>\n",
       "<tr><td>o</td><td>o</td><td>o </td><td>o </td><td>o </td><td>o</td><td>o </td><td>o </td><td>o </td></tr>\n",
       "</tbody>\n",
       "</table>"
      ],
      "text/plain": [
       "<IPython.core.display.HTML object>"
      ]
     },
     "metadata": {},
     "output_type": "display_data"
    }
   ],
   "source": [
    "game.update({'2': 'up'})\n",
    "game.view()"
   ]
  },
  {
   "cell_type": "code",
   "execution_count": null,
   "metadata": {},
   "outputs": [],
   "source": []
  }
 ],
 "metadata": {
  "kernelspec": {
   "display_name": "marl",
   "language": "python",
   "name": "python3"
  },
  "language_info": {
   "codemirror_mode": {
    "name": "ipython",
    "version": 3
   },
   "file_extension": ".py",
   "mimetype": "text/x-python",
   "name": "python",
   "nbconvert_exporter": "python",
   "pygments_lexer": "ipython3",
   "version": "3.10.10"
  },
  "orig_nbformat": 4
 },
 "nbformat": 4,
 "nbformat_minor": 2
}
