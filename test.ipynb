{
 "cells": [
  {
   "cell_type": "code",
   "execution_count": 1,
   "metadata": {},
   "outputs": [],
   "source": [
    "import numpy as np\n",
    "\n",
    "from RushHour4.setup import Map, Environment"
   ]
  },
  {
   "cell_type": "code",
   "execution_count": 2,
   "metadata": {},
   "outputs": [
    {
     "data": {
      "text/html": [
       "<table>\n",
       "<tbody>\n",
       "<tr><td style=\"text-align: right;\"> 0</td><td style=\"text-align: right;\"> 1</td><td style=\"text-align: right;\"> 2</td><td style=\"text-align: right;\"> 3</td><td style=\"text-align: right;\"> 4</td><td style=\"text-align: right;\"> 5</td><td style=\"text-align: right;\"> 6</td><td style=\"text-align: right;\"> 7</td><td style=\"text-align: right;\"> 8</td></tr>\n",
       "<tr><td style=\"text-align: right;\"> 9</td><td style=\"text-align: right;\">10</td><td style=\"text-align: right;\">11</td><td style=\"text-align: right;\">12</td><td style=\"text-align: right;\">13</td><td style=\"text-align: right;\">14</td><td style=\"text-align: right;\">15</td><td style=\"text-align: right;\">16</td><td style=\"text-align: right;\">17</td></tr>\n",
       "<tr><td style=\"text-align: right;\">18</td><td style=\"text-align: right;\">19</td><td style=\"text-align: right;\">20</td><td style=\"text-align: right;\">21</td><td style=\"text-align: right;\">22</td><td style=\"text-align: right;\">23</td><td style=\"text-align: right;\">24</td><td style=\"text-align: right;\">25</td><td style=\"text-align: right;\">26</td></tr>\n",
       "<tr><td style=\"text-align: right;\">27</td><td style=\"text-align: right;\">28</td><td style=\"text-align: right;\">29</td><td style=\"text-align: right;\">30</td><td style=\"text-align: right;\">31</td><td style=\"text-align: right;\">32</td><td style=\"text-align: right;\">33</td><td style=\"text-align: right;\">34</td><td style=\"text-align: right;\">35</td></tr>\n",
       "<tr><td style=\"text-align: right;\">36</td><td style=\"text-align: right;\">37</td><td style=\"text-align: right;\">38</td><td style=\"text-align: right;\">39</td><td style=\"text-align: right;\">40</td><td style=\"text-align: right;\">41</td><td style=\"text-align: right;\">42</td><td style=\"text-align: right;\">43</td><td style=\"text-align: right;\">44</td></tr>\n",
       "<tr><td style=\"text-align: right;\">45</td><td style=\"text-align: right;\">46</td><td style=\"text-align: right;\">47</td><td style=\"text-align: right;\">48</td><td style=\"text-align: right;\">49</td><td style=\"text-align: right;\">50</td><td style=\"text-align: right;\">51</td><td style=\"text-align: right;\">52</td><td style=\"text-align: right;\">53</td></tr>\n",
       "</tbody>\n",
       "</table>"
      ],
      "text/plain": [
       "<IPython.core.display.HTML object>"
      ]
     },
     "metadata": {},
     "output_type": "display_data"
    },
    {
     "data": {
      "text/html": [
       "<table>\n",
       "<tbody>\n",
       "<tr><td>(  0,   0 )</td><td>(  0,   1 )</td><td>(  0,   2 )</td><td>(  0,   3 )</td><td>(  0,   4 )</td><td>(  0,   5 )</td><td>(  0,   6 )</td><td>(  0,   7 )</td><td>(  0,   8 )</td></tr>\n",
       "<tr><td>(  1,   0 )</td><td>(  1,   1 )</td><td>(  1,   2 )</td><td>(  1,   3 )</td><td>(  1,   4 )</td><td>(  1,   5 )</td><td>(  1,   6 )</td><td>(  1,   7 )</td><td>(  1,   8 )</td></tr>\n",
       "<tr><td>(  2,   0 )</td><td>(  2,   1 )</td><td>(  2,   2 )</td><td>(  2,   3 )</td><td>(  2,   4 )</td><td>(  2,   5 )</td><td>(  2,   6 )</td><td>(  2,   7 )</td><td>(  2,   8 )</td></tr>\n",
       "<tr><td>(  3,   0 )</td><td>(  3,   1 )</td><td>(  3,   2 )</td><td>(  3,   3 )</td><td>(  3,   4 )</td><td>(  3,   5 )</td><td>(  3,   6 )</td><td>(  3,   7 )</td><td>(  3,   8 )</td></tr>\n",
       "<tr><td>(  4,   0 )</td><td>(  4,   1 )</td><td>(  4,   2 )</td><td>(  4,   3 )</td><td>(  4,   4 )</td><td>(  4,   5 )</td><td>(  4,   6 )</td><td>(  4,   7 )</td><td>(  4,   8 )</td></tr>\n",
       "<tr><td>(  5,   0 )</td><td>(  5,   1 )</td><td>(  5,   2 )</td><td>(  5,   3 )</td><td>(  5,   4 )</td><td>(  5,   5 )</td><td>(  5,   6 )</td><td>(  5,   7 )</td><td>(  5,   8 )</td></tr>\n",
       "</tbody>\n",
       "</table>"
      ],
      "text/plain": [
       "<IPython.core.display.HTML object>"
      ]
     },
     "metadata": {},
     "output_type": "display_data"
    },
    {
     "data": {
      "text/html": [
       "<table>\n",
       "<tbody>\n",
       "<tr><td>o</td><td>o</td><td>o</td><td>o</td><td>o</td><td>o</td><td>o</td><td>o</td><td>o</td></tr>\n",
       "<tr><td>o</td><td>o</td><td>o</td><td>o</td><td>o</td><td>o</td><td>o</td><td>o</td><td>o</td></tr>\n",
       "<tr><td>o</td><td>o</td><td>o</td><td>o</td><td>o</td><td>o</td><td>o</td><td>o</td><td>o</td></tr>\n",
       "<tr><td>o</td><td>o</td><td>o</td><td>o</td><td>o</td><td>o</td><td>o</td><td>o</td><td>o</td></tr>\n",
       "<tr><td>o</td><td>o</td><td>o</td><td>o</td><td>o</td><td>o</td><td>o</td><td>o</td><td>o</td></tr>\n",
       "<tr><td>o</td><td>o</td><td>o</td><td>o</td><td>o</td><td>o</td><td>o</td><td>o</td><td>o</td></tr>\n",
       "</tbody>\n",
       "</table>"
      ],
      "text/plain": [
       "<IPython.core.display.HTML object>"
      ]
     },
     "metadata": {},
     "output_type": "display_data"
    }
   ],
   "source": [
    "map = Map(6, 9)\n",
    "map.index\n",
    "map.coordinate\n",
    "map.view()"
   ]
  },
  {
   "cell_type": "code",
   "execution_count": 3,
   "metadata": {},
   "outputs": [
    {
     "data": {
      "text/html": [
       "<table>\n",
       "<tbody>\n",
       "<tr><td>o</td><td>o</td><td>o</td><td>o</td><td>o</td><td>o</td><td>o</td><td>x</td><td>x</td></tr>\n",
       "<tr><td>o</td><td>o</td><td>o</td><td>x</td><td>x</td><td>o</td><td>o</td><td>o</td><td>o</td></tr>\n",
       "<tr><td>o</td><td>o</td><td>x</td><td>x</td><td>o</td><td>x</td><td>o</td><td>o</td><td>o</td></tr>\n",
       "<tr><td>o</td><td>o</td><td>x</td><td>x</td><td>o</td><td>o</td><td>x</td><td>x</td><td>o</td></tr>\n",
       "<tr><td>o</td><td>o</td><td>o</td><td>o</td><td>o</td><td>o</td><td>x</td><td>x</td><td>o</td></tr>\n",
       "<tr><td>o</td><td>o</td><td>o</td><td>o</td><td>o</td><td>o</td><td>o</td><td>o</td><td>o</td></tr>\n",
       "</tbody>\n",
       "</table>"
      ],
      "text/plain": [
       "<IPython.core.display.HTML object>"
      ]
     },
     "metadata": {},
     "output_type": "display_data"
    }
   ],
   "source": [
    "obstruct_ids = [12, 13, 21, 30, 20, 29, 33, 34, 42, 43, 7, 8, 23]\n",
    "for position in obstruct_ids:\n",
    "    map.obstruct(position, index=True)\n",
    "\n",
    "map.view()\n",
    "world = map.save()"
   ]
  },
  {
   "cell_type": "code",
   "execution_count": 4,
   "metadata": {},
   "outputs": [],
   "source": [
    "# env = Environment(world)\n",
    "env = Environment(map)"
   ]
  },
  {
   "cell_type": "code",
   "execution_count": 5,
   "metadata": {},
   "outputs": [
    {
     "data": {
      "text/plain": [
       "['down']"
      ]
     },
     "execution_count": 5,
     "metadata": {},
     "output_type": "execute_result"
    }
   ],
   "source": [
    "env.valid_actions(22, index=True)"
   ]
  },
  {
   "cell_type": "code",
   "execution_count": 6,
   "metadata": {},
   "outputs": [
    {
     "data": {
      "text/plain": [
       "31"
      ]
     },
     "execution_count": 6,
     "metadata": {},
     "output_type": "execute_result"
    }
   ],
   "source": [
    "env.down(22, index=True)"
   ]
  },
  {
   "cell_type": "code",
   "execution_count": 7,
   "metadata": {},
   "outputs": [
    {
     "data": {
      "text/plain": [
       "['up', 'down', 'right']"
      ]
     },
     "execution_count": 7,
     "metadata": {},
     "output_type": "execute_result"
    }
   ],
   "source": [
    "env.valid_actions(31, index=True)"
   ]
  },
  {
   "cell_type": "code",
   "execution_count": 8,
   "metadata": {},
   "outputs": [
    {
     "ename": "IndexError",
     "evalue": "list index out of range",
     "output_type": "error",
     "traceback": [
      "\u001b[0;31m---------------------------------------------------------------------------\u001b[0m",
      "\u001b[0;31mIndexError\u001b[0m                                Traceback (most recent call last)",
      "Cell \u001b[0;32mIn[8], line 2\u001b[0m\n\u001b[1;32m      1\u001b[0m \u001b[39mfor\u001b[39;00m action \u001b[39min\u001b[39;00m [\u001b[39m'\u001b[39m\u001b[39mup\u001b[39m\u001b[39m'\u001b[39m, \u001b[39m'\u001b[39m\u001b[39mdown\u001b[39m\u001b[39m'\u001b[39m, \u001b[39m'\u001b[39m\u001b[39mright\u001b[39m\u001b[39m'\u001b[39m]:\n\u001b[0;32m----> 2\u001b[0m     \u001b[39mprint\u001b[39m(env\u001b[39m.\u001b[39;49mnext(action, \u001b[39m31\u001b[39;49m))\n",
      "File \u001b[0;32m~/Documents/GitHub/Cognition-and-MARL/RushHour4/setup/compose.py:120\u001b[0m, in \u001b[0;36mEnvironment.next\u001b[0;34m(self, action, X, Y, index)\u001b[0m\n\u001b[1;32m    118\u001b[0m \u001b[39mdef\u001b[39;00m \u001b[39mnext\u001b[39m(\u001b[39mself\u001b[39m, action, X, Y\u001b[39m=\u001b[39m\u001b[39mNone\u001b[39;00m, index\u001b[39m=\u001b[39m\u001b[39mFalse\u001b[39;00m):\n\u001b[1;32m    119\u001b[0m     \u001b[39mif\u001b[39;00m action \u001b[39m==\u001b[39m \u001b[39m'\u001b[39m\u001b[39mup\u001b[39m\u001b[39m'\u001b[39m:\n\u001b[0;32m--> 120\u001b[0m         \u001b[39mreturn\u001b[39;00m \u001b[39mself\u001b[39;49m\u001b[39m.\u001b[39;49mup(X, Y, index)\n\u001b[1;32m    121\u001b[0m     \u001b[39mif\u001b[39;00m action \u001b[39m==\u001b[39m \u001b[39m'\u001b[39m\u001b[39mdown\u001b[39m\u001b[39m'\u001b[39m:\n\u001b[1;32m    122\u001b[0m         \u001b[39mreturn\u001b[39;00m \u001b[39mself\u001b[39m\u001b[39m.\u001b[39mdown(X, Y, index)\n",
      "File \u001b[0;32m~/Documents/GitHub/Cognition-and-MARL/RushHour4/setup/compose.py:83\u001b[0m, in \u001b[0;36mEnvironment.up\u001b[0;34m(self, X, Y, index)\u001b[0m\n\u001b[1;32m     82\u001b[0m \u001b[39mdef\u001b[39;00m \u001b[39mup\u001b[39m(\u001b[39mself\u001b[39m, X, Y\u001b[39m=\u001b[39m\u001b[39mNone\u001b[39;00m, index\u001b[39m=\u001b[39m\u001b[39mFalse\u001b[39;00m):\n\u001b[0;32m---> 83\u001b[0m     X, Y \u001b[39m=\u001b[39m \u001b[39mself\u001b[39;49m\u001b[39m.\u001b[39;49m_up(X, Y, index)\n\u001b[1;32m     84\u001b[0m     \u001b[39mself\u001b[39m\u001b[39m.\u001b[39m_valid_actions(X, Y, \u001b[39m'\u001b[39m\u001b[39mup\u001b[39m\u001b[39m'\u001b[39m)\n\u001b[1;32m     86\u001b[0m     \u001b[39mif\u001b[39;00m index:\n",
      "File \u001b[0;32m~/Documents/GitHub/Cognition-and-MARL/RushHour4/setup/compose.py:53\u001b[0m, in \u001b[0;36mEnvironment._up\u001b[0;34m(self, X, Y, index)\u001b[0m\n\u001b[1;32m     51\u001b[0m \u001b[39mif\u001b[39;00m index:\n\u001b[1;32m     52\u001b[0m     X, Y \u001b[39m=\u001b[39m \u001b[39mself\u001b[39m\u001b[39m.\u001b[39mto_coordinate(X)\n\u001b[0;32m---> 53\u001b[0m \u001b[39mself\u001b[39;49m\u001b[39m.\u001b[39;49m_valid_actions(X, Y)\n\u001b[1;32m     54\u001b[0m \u001b[39mif\u001b[39;00m X \u001b[39m==\u001b[39m \u001b[39m0\u001b[39m: X \u001b[39m=\u001b[39m \u001b[39mself\u001b[39m\u001b[39m.\u001b[39m_rows \u001b[39m-\u001b[39m \u001b[39m1\u001b[39m\n\u001b[1;32m     55\u001b[0m \u001b[39melse\u001b[39;00m: X \u001b[39m-\u001b[39m\u001b[39m=\u001b[39m \u001b[39m1\u001b[39m\n",
      "File \u001b[0;32m~/Documents/GitHub/Cognition-and-MARL/RushHour4/setup/compose.py:33\u001b[0m, in \u001b[0;36mEnvironment._valid_actions\u001b[0;34m(self, X, Y, action)\u001b[0m\n\u001b[1;32m     32\u001b[0m \u001b[39mdef\u001b[39;00m \u001b[39m_valid_actions\u001b[39m(\u001b[39mself\u001b[39m, X, Y, action\u001b[39m=\u001b[39m\u001b[39mNone\u001b[39;00m):\n\u001b[0;32m---> 33\u001b[0m     \u001b[39mif\u001b[39;00m \u001b[39mself\u001b[39;49m\u001b[39m.\u001b[39;49m_grid[X][Y] \u001b[39m!=\u001b[39m \u001b[39m'\u001b[39m\u001b[39mo\u001b[39m\u001b[39m'\u001b[39m:\n\u001b[1;32m     34\u001b[0m         \u001b[39mif\u001b[39;00m action \u001b[39mis\u001b[39;00m \u001b[39mnot\u001b[39;00m \u001b[39mNone\u001b[39;00m:\n\u001b[1;32m     35\u001b[0m             \u001b[39mraise\u001b[39;00m \u001b[39mValueError\u001b[39;00m(\u001b[39mf\u001b[39m\u001b[39m'\u001b[39m\u001b[39mAction: \u001b[39m\u001b[39m{\u001b[39;00maction\u001b[39m}\u001b[39;00m\u001b[39m, State: (\u001b[39m\u001b[39m{\u001b[39;00mX\u001b[39m}\u001b[39;00m\u001b[39m, \u001b[39m\u001b[39m{\u001b[39;00mY\u001b[39m}\u001b[39;00m\u001b[39m) is invalid!\u001b[39m\u001b[39m'\u001b[39m)\n",
      "\u001b[0;31mIndexError\u001b[0m: list index out of range"
     ]
    }
   ],
   "source": [
    "for action in ['up', 'down', 'right']:\n",
    "    print(env.next(action, 31))"
   ]
  },
  {
   "cell_type": "code",
   "execution_count": 7,
   "metadata": {},
   "outputs": [
    {
     "data": {
      "text/plain": [
       "46"
      ]
     },
     "execution_count": 7,
     "metadata": {},
     "output_type": "execute_result"
    }
   ],
   "source": [
    "env.next('right', 45, index=True)"
   ]
  }
 ],
 "metadata": {
  "kernelspec": {
   "display_name": "marl",
   "language": "python",
   "name": "python3"
  },
  "language_info": {
   "codemirror_mode": {
    "name": "ipython",
    "version": 3
   },
   "file_extension": ".py",
   "mimetype": "text/x-python",
   "name": "python",
   "nbconvert_exporter": "python",
   "pygments_lexer": "ipython3",
   "version": "3.10.10"
  },
  "orig_nbformat": 4
 },
 "nbformat": 4,
 "nbformat_minor": 2
}
