{
 "cells": [
  {
   "cell_type": "code",
   "execution_count": 1,
   "metadata": {},
   "outputs": [
    {
     "name": "stdout",
     "output_type": "stream",
     "text": [
      "pygame 2.3.0 (SDL 2.24.2, Python 3.10.10)\n",
      "Hello from the pygame community. https://www.pygame.org/contribute.html\n"
     ]
    }
   ],
   "source": [
    "import random\n",
    "from tqdm import trange\n",
    "\n",
    "import pygame\n",
    "import matplotlib.pyplot as plt\n",
    "\n",
    "import numpy as np\n",
    "\n",
    "from RushHour4.core import Map, Environment\n",
    "from RushHour4.interact import Game, visualize, load_image_objects"
   ]
  },
  {
   "cell_type": "code",
   "execution_count": 2,
   "metadata": {},
   "outputs": [],
   "source": [
    "ROWS, COLS = 10, 10\n",
    "EPISODES = 1_0_000\n",
    "MOVE_PENALTY = 1\n",
    "COLLISION_PENALTY = 100\n",
    "CATCH_REWARD = 200\n",
    "STEPS = 400\n",
    "\n",
    "EPSILON = 1.0\n",
    "EPS_DECAY = 0.99996\n",
    "LEARNING_RATE = 0.1\n",
    "DISCOUNT = 0.95\n",
    "\n",
    "SHOW = False\n",
    "SHOW_EVERY = 10000\n",
    "\n",
    "if SHOW:\n",
    "    blockSize = 50\n",
    "    global screen, CLOCK\n",
    "    agent, action = None, None\n",
    "    pygame.init()\n",
    "    screen = pygame.display.set_mode((blockSize * COLS, blockSize * ROWS))\n",
    "    clock = pygame.time.Clock()\n",
    "    screen.fill((0, 0, 0))\n",
    "    pyimage_objects = load_image_objects()\n",
    "\n",
    "mymap = Map(ROWS, COLS)\n",
    "game = Game(mymap, 50)\n",
    "\n",
    "start_q_table = None # None or Filename\n",
    "# start_q_table = 'Models/two_common_qtable_new.pickle' # None or Filename\n",
    "\n",
    "if start_q_table is None:\n",
    "    # initialize the q-table#\n",
    "    q_table = np.zeros((ROWS*COLS, ROWS*COLS, ROWS*COLS, 4))\n",
    "    for primary_cop_pos in range(game._start, game._end + 1):\n",
    "        for secondary_cop_pos in range(game._start, game._end + 1):\n",
    "            for thief_pos in range(game._start, game._end + 1):\n",
    "                    q_table[primary_cop_pos, secondary_cop_pos, thief_pos, :] = [np.random.uniform(-1, 1) for i in range(4)]\n",
    "\n",
    "else:\n",
    "    with open(start_q_table, 'rb') as f:\n",
    "        q_table = pickle.load(f)\n",
    "         \n",
    "action_direction = ['up', 'down', 'left', 'right']\n"
   ]
  },
  {
   "cell_type": "code",
   "execution_count": 3,
   "metadata": {},
   "outputs": [],
   "source": [
    "def get_random_pos():\n",
    "    possible_start_locations = game.valid_states\n",
    "    return random.choice(possible_start_locations)\n",
    "\n",
    "def get_cop_states(cop1_pos, cop2_pos, thief_pos):\n",
    "    cop1_state = [cop1_pos, cop2_pos, thief_pos]\n",
    "    cop2_state = [cop2_pos, cop1_pos, thief_pos]\n",
    "    return cop1_state, cop2_state\n",
    "\n",
    "def perform_action(observations):\n",
    "    if np.random.random() > EPSILON:\n",
    "        direction = np.argmax(q_table[observations[0]][observations[1]][observations[2]])\n",
    "    else:\n",
    "        direction = np.random.randint(0, 4)\n",
    "    return direction\n",
    "\n",
    "def update_table(reward, old_state, new_state, direction):\n",
    "    max_future_q = np.max(q_table[new_state[0]][new_state[1]][new_state[2]])\n",
    "    current_q = q_table[old_state[0]][old_state[1]][old_state[2]][direction]\n",
    "    \n",
    "    if reward == CATCH_REWARD*2:\n",
    "        new_q = CATCH_REWARD\n",
    "    else:\n",
    "        new_q = (1 - LEARNING_RATE) * current_q + LEARNING_RATE * (reward + DISCOUNT * max_future_q)\n",
    "    q_table[old_state[0]][old_state[1]][old_state[2]][direction] = new_q"
   ]
  },
  {
   "cell_type": "code",
   "execution_count": 4,
   "metadata": {},
   "outputs": [
    {
     "name": "stderr",
     "output_type": "stream",
     "text": [
      "Total Steps: 800: 100%|██████████| 10000/10000 [03:05<00:00, 53.82it/s]\n"
     ]
    },
    {
     "data": {
      "image/png": "[encoded data removed]",
      "text/plain": [
       "<Figure size 640x480 with 1 Axes>"
      ]
     },
     "metadata": {},
     "output_type": "display_data"
    },
    {
     "name": "stdout",
     "output_type": "stream",
     "text": [
      "Catching Percentage : Cop 1 : 40.0\n",
      "Catching Percentage : Cop 2 : 60.0\n",
      "Catching Percentage : Total : 2.45\n",
      "Average Steps To Catch      : 786.0421\n"
     ]
    }
   ],
   "source": [
    "episode_rewards = []\n",
    "catch_count1 = 0\n",
    "catch_count2 = 0\n",
    "\n",
    "progress = trange(EPISODES)\n",
    "for episode in progress:\n",
    "\n",
    "    game.initialize()\n",
    "    game.setup_agents({'1': game.random_state()})\n",
    "    game.setup_agents({'2': game.random_state()})\n",
    "    game.setup_agents({'x': game.random_state()})\n",
    "\n",
    "    episode_reward = 0\n",
    "    cop1_caught = 0\n",
    "    cop2_caught = 0\n",
    "\n",
    "    cop1_pos = game.locate_agent('1')\n",
    "    cop2_pos = game.locate_agent('2')\n",
    "    thief_pos = game.locate_agent('x')\n",
    "    cop1_state, cop2_state = get_cop_states(cop1_pos, cop2_pos, thief_pos)\n",
    "\n",
    "    for i in range(STEPS):\n",
    "        cop1_direction = perform_action(cop1_state)\n",
    "        cop2_direction = perform_action(cop2_state)\n",
    "        if action_direction[cop1_direction] in game.valid_actions(cop1_pos, index=True):\n",
    "            game.update({'1': action_direction[cop1_direction]})\n",
    "        \n",
    "        if action_direction[cop2_direction] in game.valid_actions(cop2_pos, index=True):\n",
    "            game.update({'2': action_direction[cop2_direction]})\n",
    "\n",
    "        if game._agent_location['1'] == game._agent_location['x']:\n",
    "            reward = CATCH_REWARD\n",
    "            cop1_caught = CATCH_REWARD\n",
    "            catch_count1 += 1\n",
    "        elif game._agent_location['2'] == game._agent_location['x']:\n",
    "            reward = CATCH_REWARD\n",
    "            cop2_caught = CATCH_REWARD\n",
    "            catch_count2 += 1\n",
    "        else:\n",
    "            reward = -MOVE_PENALTY\n",
    "        \n",
    "        if SHOW:\n",
    "            visualize(screen, game.grid, pyimage_objects, ROWS, COLS, blockSize)\n",
    "            pygame.display.update()\n",
    "            time.sleep(1)\n",
    "\n",
    "        cop1_pos = game.locate_agent('1')\n",
    "        cop2_pos = game.locate_agent('2')\n",
    "        \n",
    "        if reward != CATCH_REWARD:\n",
    "            thief_run_direction = game.thief_run()\n",
    "            if thief_run_direction in game.valid_actions(thief_pos, index=True):\n",
    "                game.update({'x': thief_run_direction})\n",
    "\n",
    "        thief_pos = game.locate_agent('x')\n",
    "        cop1_state_new, cop2_state_new = get_cop_states(cop1_pos, cop2_pos, thief_pos)\n",
    "\n",
    "        update_table(reward, cop1_state, cop1_state_new, cop1_direction)\n",
    "        update_table(reward, cop2_state, cop2_state_new, cop1_direction)\n",
    "\n",
    "        cop1_state, cop2_state = cop1_state_new, cop2_state_new\n",
    "\n",
    "        episode_reward += reward\n",
    "        if reward == CATCH_REWARD:\n",
    "            break\n",
    "    \n",
    "    progress.set_description(f'Total Steps: {STEPS - episode_reward}')\n",
    "    episode_rewards.append(episode_reward)\n",
    "    EPSILON *= EPS_DECAY\n",
    "\n",
    "moving_avg = np.convolve(episode_rewards, np.ones((SHOW_EVERY,))/SHOW_EVERY, mode='valid')\n",
    "\n",
    "plt.plot([i for i in range(len(moving_avg))], moving_avg)\n",
    "plt.ylabel(f'Reward {SHOW_EVERY}ma')\n",
    "plt.xlabel('episode #')\n",
    "plt.show()\n",
    "\n",
    "catch_count_total = (catch_count1 + catch_count2)\n",
    "print('Catching Percentage : Cop 1 :', catch_count1 * 100 / catch_count_total)\n",
    "print('Catching Percentage : Cop 2 :', catch_count2 * 100 / catch_count_total)\n",
    "print('Catching Percentage : Total :', catch_count_total * 100 / EPISODES)\n",
    "print('Average Steps To Catch      :', STEPS - (sum(episode_rewards)/len(episode_rewards)))"
   ]
  },
  {
   "cell_type": "code",
   "execution_count": null,
   "metadata": {},
   "outputs": [],
   "source": []
  }
 ],
 "metadata": {
  "kernelspec": {
   "display_name": "marl",
   "language": "python",
   "name": "python3"
  },
  "language_info": {
   "codemirror_mode": {
    "name": "ipython",
    "version": 3
   },
   "file_extension": ".py",
   "mimetype": "text/x-python",
   "name": "python",
   "nbconvert_exporter": "python",
   "pygments_lexer": "ipython3",
   "version": "3.9.16"
  },
  "orig_nbformat": 4
 },
 "nbformat": 4,
 "nbformat_minor": 2
}
